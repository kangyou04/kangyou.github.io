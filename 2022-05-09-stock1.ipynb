{
 "cells": [
  {
   "cell_type": "code",
   "execution_count": 57,
   "id": "ed1a1c11",
   "metadata": {},
   "outputs": [],
   "source": [
    "import warnings\n",
    "import FinanceDataReader as fdr\n",
    "import matplotlib.pyplot as plt\n",
    "from matplotlib.figure import Figure\n",
    "import pandas as pd\n",
    "import numpy as np\n",
    "\n",
    "warnings.filterwarnings('ignore')"
   ]
  },
  {
   "cell_type": "code",
   "execution_count": 58,
   "id": "d38feb63",
   "metadata": {},
   "outputs": [],
   "source": [
    "class PatternFinder():\n",
    "    def __init__(self, period=5):\n",
    "        self.period = period\n",
    "    \n",
    "    def set_stock(self, code: str):\n",
    "        self.code = code\n",
    "        self.data = fdr.DataReader(code)\n",
    "        self.close = self.data['Close']\n",
    "        self.change = self.data['Change']\n",
    "        return self.data\n",
    "        \n",
    "    def search(self, start_date, end_date, threshold=0.98):\n",
    "        base = self.close[start_date:end_date]\n",
    "        self.base_norm = (base - base.min()) / (base.max() - base.min())\n",
    "        self.base = base\n",
    "        \n",
    "        display(base)\n",
    "        \n",
    "        window_size = len(base)\n",
    "        moving_cnt = len(self.data) - window_size - self.period - 1\n",
    "        cos_sims = self.__cosine_sims(moving_cnt, window_size)\n",
    "        \n",
    "        self.window_size = window_size\n",
    "        cos_sims = cos_sims[cos_sims > threshold]\n",
    "        return cos_sims\n",
    "    \n",
    "    \n",
    "    def __cosine_sims(self, moving_cnt, window_size):\n",
    "        def cosine_similarity(x, y):\n",
    "            return np.dot(x, y) / (np.sqrt(np.dot(x, x)) * np.sqrt(np.dot(y, y)))\n",
    "        \n",
    "        # 유사도 저장 딕셔너리\n",
    "        sim_list = []\n",
    "\n",
    "        for i in range(moving_cnt):\n",
    "            target = self.close[i:i+window_size]\n",
    "\n",
    "            # Normalize\n",
    "            target_norm = (target - target.min()) / (target.max() - target.min())\n",
    "\n",
    "            # 코사인 유사도 저장\n",
    "            cos_similarity = cosine_similarity(self.base_norm, target_norm)\n",
    "\n",
    "            # 코사인 유사도 <- i(인덱스), 시계열데이터 함께 저장\n",
    "            sim_list.append(cos_similarity)\n",
    "        return pd.Series(sim_list).sort_values(ascending=False)\n",
    "\n",
    "    \n",
    "    def plot_pattern(self, idx, period=5):\n",
    "        if period != self.period:\n",
    "            self.period = period\n",
    "            \n",
    "        top = self.close[idx:idx+self.window_size+period]\n",
    "        top_norm = (top - top.min()) / (top.max() - top.min())\n",
    "\n",
    "        plt.plot(self.base_norm.values, label='base')\n",
    "        plt.plot(top_norm.values, label='target')\n",
    "        plt.axvline(x=len(self.base_norm)-1, c='r', linestyle='--')\n",
    "        plt.axvspan(len(self.base_norm.values)-1, len(top_norm.values)-1, facecolor='yellow', alpha=0.3)\n",
    "        plt.legend()\n",
    "        plt.show()\n",
    "        \n",
    "        \n",
    "        preds = self.change[idx+self.window_size: idx+self.window_size+period]\n",
    "        display(preds)\n",
    "        print(f'pred: {preds.mean()*100} % ')\n",
    "\n",
    "    \n",
    "    def stat_prediction(self, result, period=5):\n",
    "        idx_list = list(result.keys())\n",
    "        mean_list = []\n",
    "        for idx in idx_list:\n",
    "            pred = self.change[idx+self.window_size: idx+self.window_size+period]\n",
    "            mean_list.append(pred.mean())\n",
    "        return np.array(mean_list)"
   ]
  },
  {
   "cell_type": "code",
   "execution_count": 59,
   "id": "1826db3b",
   "metadata": {
    "scrolled": true
   },
   "outputs": [],
   "source": [
    "p = PatternFinder()"
   ]
  },
  {
   "cell_type": "code",
   "execution_count": 60,
   "id": "f240a8b7",
   "metadata": {
    "scrolled": true
   },
   "outputs": [
    {
     "data": {
      "text/html": [
       "<div>\n",
       "<style scoped>\n",
       "    .dataframe tbody tr th:only-of-type {\n",
       "        vertical-align: middle;\n",
       "    }\n",
       "\n",
       "    .dataframe tbody tr th {\n",
       "        vertical-align: top;\n",
       "    }\n",
       "\n",
       "    .dataframe thead th {\n",
       "        text-align: right;\n",
       "    }\n",
       "</style>\n",
       "<table border=\"1\" class=\"dataframe\">\n",
       "  <thead>\n",
       "    <tr style=\"text-align: right;\">\n",
       "      <th></th>\n",
       "      <th>Open</th>\n",
       "      <th>High</th>\n",
       "      <th>Low</th>\n",
       "      <th>Close</th>\n",
       "      <th>Volume</th>\n",
       "      <th>Change</th>\n",
       "    </tr>\n",
       "    <tr>\n",
       "      <th>Date</th>\n",
       "      <th></th>\n",
       "      <th></th>\n",
       "      <th></th>\n",
       "      <th></th>\n",
       "      <th></th>\n",
       "      <th></th>\n",
       "    </tr>\n",
       "  </thead>\n",
       "  <tbody>\n",
       "    <tr>\n",
       "      <th>1998-03-14</th>\n",
       "      <td>161520</td>\n",
       "      <td>161520</td>\n",
       "      <td>161520</td>\n",
       "      <td>161507</td>\n",
       "      <td>0</td>\n",
       "      <td>NaN</td>\n",
       "    </tr>\n",
       "    <tr>\n",
       "      <th>1998-03-16</th>\n",
       "      <td>161520</td>\n",
       "      <td>161520</td>\n",
       "      <td>161520</td>\n",
       "      <td>161507</td>\n",
       "      <td>0</td>\n",
       "      <td>0.000000</td>\n",
       "    </tr>\n",
       "    <tr>\n",
       "      <th>1998-03-17</th>\n",
       "      <td>161520</td>\n",
       "      <td>161520</td>\n",
       "      <td>161520</td>\n",
       "      <td>161507</td>\n",
       "      <td>0</td>\n",
       "      <td>0.000000</td>\n",
       "    </tr>\n",
       "    <tr>\n",
       "      <th>1998-03-18</th>\n",
       "      <td>173806</td>\n",
       "      <td>173806</td>\n",
       "      <td>173806</td>\n",
       "      <td>173794</td>\n",
       "      <td>10</td>\n",
       "      <td>0.076077</td>\n",
       "    </tr>\n",
       "    <tr>\n",
       "      <th>1998-03-19</th>\n",
       "      <td>187028</td>\n",
       "      <td>187028</td>\n",
       "      <td>187028</td>\n",
       "      <td>187015</td>\n",
       "      <td>10</td>\n",
       "      <td>0.076073</td>\n",
       "    </tr>\n",
       "    <tr>\n",
       "      <th>...</th>\n",
       "      <td>...</td>\n",
       "      <td>...</td>\n",
       "      <td>...</td>\n",
       "      <td>...</td>\n",
       "      <td>...</td>\n",
       "      <td>...</td>\n",
       "    </tr>\n",
       "    <tr>\n",
       "      <th>2022-04-29</th>\n",
       "      <td>3890</td>\n",
       "      <td>4010</td>\n",
       "      <td>3890</td>\n",
       "      <td>3930</td>\n",
       "      <td>162913</td>\n",
       "      <td>0.011583</td>\n",
       "    </tr>\n",
       "    <tr>\n",
       "      <th>2022-05-02</th>\n",
       "      <td>3890</td>\n",
       "      <td>3955</td>\n",
       "      <td>3865</td>\n",
       "      <td>3950</td>\n",
       "      <td>150801</td>\n",
       "      <td>0.005089</td>\n",
       "    </tr>\n",
       "    <tr>\n",
       "      <th>2022-05-03</th>\n",
       "      <td>3970</td>\n",
       "      <td>4000</td>\n",
       "      <td>3900</td>\n",
       "      <td>3975</td>\n",
       "      <td>136009</td>\n",
       "      <td>0.006329</td>\n",
       "    </tr>\n",
       "    <tr>\n",
       "      <th>2022-05-04</th>\n",
       "      <td>3980</td>\n",
       "      <td>3980</td>\n",
       "      <td>3885</td>\n",
       "      <td>3920</td>\n",
       "      <td>180841</td>\n",
       "      <td>-0.013836</td>\n",
       "    </tr>\n",
       "    <tr>\n",
       "      <th>2022-05-06</th>\n",
       "      <td>3820</td>\n",
       "      <td>3870</td>\n",
       "      <td>3795</td>\n",
       "      <td>3840</td>\n",
       "      <td>237190</td>\n",
       "      <td>-0.020408</td>\n",
       "    </tr>\n",
       "  </tbody>\n",
       "</table>\n",
       "<p>6000 rows × 6 columns</p>\n",
       "</div>"
      ],
      "text/plain": [
       "              Open    High     Low   Close  Volume    Change\n",
       "Date                                                        \n",
       "1998-03-14  161520  161520  161520  161507       0       NaN\n",
       "1998-03-16  161520  161520  161520  161507       0  0.000000\n",
       "1998-03-17  161520  161520  161520  161507       0  0.000000\n",
       "1998-03-18  173806  173806  173806  173794      10  0.076077\n",
       "1998-03-19  187028  187028  187028  187015      10  0.076073\n",
       "...            ...     ...     ...     ...     ...       ...\n",
       "2022-04-29    3890    4010    3890    3930  162913  0.011583\n",
       "2022-05-02    3890    3955    3865    3950  150801  0.005089\n",
       "2022-05-03    3970    4000    3900    3975  136009  0.006329\n",
       "2022-05-04    3980    3980    3885    3920  180841 -0.013836\n",
       "2022-05-06    3820    3870    3795    3840  237190 -0.020408\n",
       "\n",
       "[6000 rows x 6 columns]"
      ]
     },
     "execution_count": 60,
     "metadata": {},
     "output_type": "execute_result"
    }
   ],
   "source": [
    "p.set_stock('018700')"
   ]
  },
  {
   "cell_type": "code",
   "execution_count": 61,
   "id": "c2d98a0b",
   "metadata": {},
   "outputs": [
    {
     "data": {
      "text/plain": [
       "Date\n",
       "2021-09-10    2625\n",
       "2021-09-13    2620\n",
       "2021-09-14    2630\n",
       "2021-09-15    2625\n",
       "2021-09-16    2635\n",
       "2021-09-17    2635\n",
       "2021-09-23    2920\n",
       "2021-09-24    2880\n",
       "2021-09-27    2955\n",
       "2021-09-28    2995\n",
       "2021-09-29    2975\n",
       "2021-09-30    3020\n",
       "Name: Close, dtype: int64"
      ]
     },
     "metadata": {},
     "output_type": "display_data"
    }
   ],
   "source": [
    "result = p.search('2021-09-10', '2021-09-30')"
   ]
  },
  {
   "cell_type": "code",
   "execution_count": 62,
   "id": "5ab60bac",
   "metadata": {},
   "outputs": [
    {
     "data": {
      "text/plain": [
       "array([ 0.06733601, -0.01124373,  0.00517852,  0.        ,  0.        ,\n",
       "       -0.00288827, -0.01440996, -0.00021833,  0.00531945,  0.03402142,\n",
       "        0.00472001, -0.02052574,  0.00670564,  0.09559623])"
      ]
     },
     "execution_count": 62,
     "metadata": {},
     "output_type": "execute_result"
    }
   ],
   "source": [
    "pred = p.stat_prediction(result)\n",
    "pred"
   ]
  },
  {
   "cell_type": "code",
   "execution_count": 63,
   "id": "cee39b8e",
   "metadata": {
    "collapsed": true
   },
   "outputs": [
    {
     "data": {
      "image/png": "[encoded data removed]",
      "text/plain": [
       "<Figure size 432x288 with 1 Axes>"
      ]
     },
     "metadata": {
      "needs_background": "light"
     },
     "output_type": "display_data"
    },
    {
     "data": {
      "text/plain": [
       "Date\n",
       "2006-10-10    0.147195\n",
       "2006-10-11   -0.037732\n",
       "2006-10-12    0.011805\n",
       "2006-10-13    0.007710\n",
       "2006-10-16    0.023105\n",
       "Name: Change, dtype: float64"
      ]
     },
     "metadata": {},
     "output_type": "display_data"
    },
    {
     "name": "stdout",
     "output_type": "stream",
     "text": [
      "pred: 3.0416592432346534 % \n"
     ]
    }
   ],
   "source": [
    "p.plot_pattern(2138)"
   ]
  },
  {
   "cell_type": "code",
   "execution_count": 64,
   "id": "ee8a373e",
   "metadata": {},
   "outputs": [],
   "source": [
    "\n",
    "import ipywidgets as widgets\n",
    "from IPython.display import display, clear_output\n",
    "\n",
    "# !jupyter nbextension enable --py widgetsnbextension --sys-prefix\n",
    "# !jupyter serverextension enable voila --sys-prefix"
   ]
  },
  {
   "cell_type": "code",
   "execution_count": 65,
   "id": "e0937bbb",
   "metadata": {},
   "outputs": [],
   "source": [
    "start_date = widgets.DatePicker(description='시작일')\n",
    "end_date = widgets.DatePicker(description='종료일')"
   ]
  },
  {
   "cell_type": "code",
   "execution_count": 66,
   "id": "6a6207f6",
   "metadata": {},
   "outputs": [],
   "source": [
    "# button send\n",
    "search_button = widgets.Button(\n",
    "                description='예측하기',\n",
    "                tooltip='Send',\n",
    "                style={'description_width': 'initial'}\n",
    "            )\n",
    "\n",
    "output = widgets.Output()\n",
    "\n",
    "def on_button_clicked(event):\n",
    "    with output:\n",
    "        clear_output()\n",
    "        p = PatternFinder()\n",
    "        p.set_stock(code.value)\n",
    "        result = p.search(start_date.value.strftime('%Y-%m-%d'), end_date.value.strftime('%Y-%m-%d'))\n",
    "        print(result)\n",
    "        for idx in result.keys():\n",
    "            p.plot_pattern(idx)\n",
    "        \n",
    "search_button.on_click(on_button_clicked)\n",
    "\n",
    "vbox_result = widgets.VBox([search_button, output])"
   ]
  },
  {
   "cell_type": "code",
   "execution_count": 67,
   "id": "10e11681",
   "metadata": {},
   "outputs": [],
   "source": [
    "label_headline = widgets.Label(\n",
    "                    value='Photo by CDC on Unsplash',\n",
    "                )\n",
    "\n",
    "vbox_headline = widgets.VBox([label_headline])"
   ]
  },
  {
   "cell_type": "code",
   "execution_count": 68,
   "id": "aacc6262",
   "metadata": {},
   "outputs": [],
   "source": [
    "text_0 = widgets.HTML(value=\"<h2>종목 코드</h2>\")\n",
    "text_1 = widgets.HTML(value=\"<h2>날짜 선택</h2>\")\n",
    "text_2 = widgets.HTML(value=\"<h2>패턴 예측</h2>\")\n",
    "\n",
    "code = widgets.Text(placeholder='종목코드를 입력해 주세요')\n",
    "code.value = '035720'\n",
    "\n",
    "vbox_0 = widgets.VBox([text_0, code])\n",
    "vbox_1 = widgets.VBox([text_1,start_date, end_date ])\n",
    "vbox_2 = widgets.VBox([text_2, vbox_result])"
   ]
  },
  {
   "cell_type": "code",
   "execution_count": 56,
   "id": "ddb31265",
   "metadata": {
    "collapsed": true
   },
   "outputs": [
    {
     "data": {
      "application/vnd.jupyter.widget-view+json": {
       "model_id": "0bd7dd069be341348676c2298548486f",
       "version_major": 2,
       "version_minor": 0
      },
      "text/plain": [
       "VBox(children=(VBox(children=(HTML(value='<h2>종목 코드</h2>'), Text(value='035720', placeholder='종목코드를 입력해 주세요'))…"
      ]
     },
     "metadata": {},
     "output_type": "display_data"
    }
   ],
   "source": [
    "page = widgets.VBox([vbox_0, vbox_1 , vbox_2])\n",
    "display(page)"
   ]
  },
  {
   "cell_type": "code",
   "execution_count": null,
   "id": "73d766c1",
   "metadata": {},
   "outputs": [],
   "source": []
  }
 ],
 "metadata": {
  "kernelspec": {
   "display_name": "Python 3 (ipykernel)",
   "language": "python",
   "name": "python3"
  },
  "language_info": {
   "codemirror_mode": {
    "name": "ipython",
    "version": 3
   },
   "file_extension": ".py",
   "mimetype": "text/x-python",
   "name": "python",
   "nbconvert_exporter": "python",
   "pygments_lexer": "ipython3",
   "version": "3.9.7"
  }
 },
 "nbformat": 4,
 "nbformat_minor": 5
}
